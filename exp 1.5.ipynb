{
 "cells": [
  {
   "cell_type": "code",
   "execution_count": null,
   "id": "acbb9761",
   "metadata": {},
   "outputs": [],
   "source": [
    "import cv2\n",
    "A=cv2.imread(\"image1.jpg\",1)\n",
    "tag=A[140:240,165:180]\n",
    "A[25:125,50:65]=tag\n",
    "cv2.imshow(\"212221240004\",A)\n",
    "cv2.waitKey(0)"
   ]
  },
  {
   "cell_type": "code",
   "execution_count": null,
   "id": "ccaf9b3f",
   "metadata": {},
   "outputs": [],
   "source": []
  }
 ],
 "metadata": {
  "kernelspec": {
   "display_name": "Python 3 (ipykernel)",
   "language": "python",
   "name": "python3"
  },
  "language_info": {
   "codemirror_mode": {
    "name": "ipython",
    "version": 3
   },
   "file_extension": ".py",
   "mimetype": "text/x-python",
   "name": "python",
   "nbconvert_exporter": "python",
   "pygments_lexer": "ipython3",
   "version": "3.8.12"
  }
 },
 "nbformat": 4,
 "nbformat_minor": 5
}
